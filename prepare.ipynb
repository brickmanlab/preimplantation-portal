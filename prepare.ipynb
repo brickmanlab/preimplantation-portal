{
 "cells": [
  {
   "cell_type": "markdown",
   "metadata": {},
   "source": [
    "---\n",
    "date: 07-02-2024\n",
    "author: Martin Proks\n",
    "title: Prepare datasets for web portal\n",
    "---"
   ]
  },
  {
   "cell_type": "code",
   "execution_count": null,
   "metadata": {},
   "outputs": [],
   "source": [
    "import scvi\n",
    "import numpy as np\n",
    "import scanpy as sc\n",
    "import pandas as pd\n",
    "\n",
    "\n",
    "def filter_SHAP(ds_file: str, groupby: str, n: int = 10):\n",
    "\n",
    "    df = pd.read_feather(ds_file).query('weight > 0')\n",
    "    df.feature = df.feature.str.capitalize()\n",
    "\n",
    "    filtered = df.groupby([groupby, 'feature']).count()[['iteration']].query('iteration == @n')\n",
    "    df_subset = df.set_index([groupby, 'feature']).loc[filtered.index].reset_index()\n",
    "    \n",
    "    filtered['weight_mean'] = df_subset.groupby([groupby, 'feature']).mean().loc[filtered.index, 'weight']\n",
    "    filtered['weight_std'] = df_subset.groupby([groupby, 'feature']).std().loc[filtered.index, 'weight']\n",
    "    filtered['weight_ci_upper'] = filtered.weight_mean + filtered.weight_std\n",
    "    filtered['weight_ci_lower'] = filtered.weight_mean - filtered.weight_std\n",
    "\n",
    "    return filtered\n",
    "\n",
    "\n",
    "def get_symbol(features: list[str]) -> np.ndarray:\n",
    "    ENSG_to_SYMBOL = pd.read_csv('../proks-salehin-et-al-2023/data/external/human/Homo_sapiens.GRCh38.110.ENSG_to_SYMBOL.tsv', delimiter=\" \", header=None)\n",
    "    ENSG_to_SYMBOL.columns = ['ensembl','symbol']\n",
    "    ENSG_to_SYMBOL_noName = pd.read_csv('../proks-salehin-et-al-2023/data/external/human/Homo_sapiens.GRCh38.110.ENSG_to_SYMBOL_noName.tsv', delimiter=\" \", header=None)\n",
    "    nameless_df = pd.DataFrame(\n",
    "        data = {\n",
    "            'ensembl' : list(set(ENSG_to_SYMBOL_noName[0].tolist()) - set(ENSG_to_SYMBOL.ensembl.tolist())),\n",
    "            'symbol' : list(set(ENSG_to_SYMBOL_noName[0].tolist()) - set(ENSG_to_SYMBOL.ensembl.tolist())),\n",
    "        })\n",
    "    ENSG_to_SYMBOL = pd.concat([ENSG_to_SYMBOL, nameless_df])\n",
    "    ENSG_to_SYMBOL.set_index('ensembl', inplace=True)\n",
    "\n",
    "    df = pd.DataFrame(features, index=features, columns=['symbol'])\n",
    "    common_genes = np.intersect1d(features, ENSG_to_SYMBOL.index)\n",
    "    df.loc[common_genes, 'symbol'] = ENSG_to_SYMBOL.loc[common_genes, 'symbol']\n",
    "\n",
    "    return df.symbol.values"
   ]
  },
  {
   "cell_type": "code",
   "execution_count": null,
   "metadata": {},
   "outputs": [],
   "source": [
    "MOUSE_STAGE_COLORS = {\n",
    "    'Zygote': '#7985A5',\n",
    "    '2C': '#B3C81E',\n",
    "    '4C': '#67BB30',\n",
    "    '8C': '#028A46',\n",
    "    '16C': '#657cbd',\n",
    "    'ICM': '#F6C445',\n",
    "    'TE': '#5a94ce',\n",
    "    'EPI': '#B46F9C',\n",
    "    'PrE': '#D05B61'\n",
    "}\n",
    "\n",
    "MOUSE_CT_COLORS = {\n",
    "    'Zygote': '#7985A5',\n",
    "    '2C': '#B3C81E',\n",
    "    '4C': '#67BB30',\n",
    "    '8C': '#028A46',\n",
    "    '16C': '#657cbd',\n",
    "    'E3.25-ICM': '#fadc8f',\n",
    "    'E3.25-TE': '#5185b9',\n",
    "    'E3.5-ICM': '#f8d06a',\n",
    "    'E3.5-TE': '#7ba9d8',\n",
    "    'E3.5-EPI': '#c38cb0',\n",
    "    'E3.5-PrE': '#d97c81',\n",
    "    'E3.75-ICM': '#F6C445',\n",
    "    'E4.5-TE': '#5a94ce',\n",
    "    'E4.5-EPI': '#B46F9C',\n",
    "    'E4.5-PrE': '#D05B61'\n",
    "}\n",
    "\n",
    "HUMAN_STAGE_COLORS = {\n",
    "    'Oocyte': '#000000',\n",
    "    'Zygote': '#7985A5',\n",
    "    'Pronucleus': '#555d73',\n",
    "    '2C': '#B3C81E',\n",
    "    '4C': '#67BB30',\n",
    "    '8C': '#028A46',\n",
    "    'Morula': '#657cbd',\n",
    "    'ICM': '#F6C445',\n",
    "    'TE': '#5a94ce',\n",
    "    'EPI': '#B46F9C',\n",
    "    'PrE': '#D05B61',\n",
    "    'Unknown': '#F1BD93'\n",
    "}\n",
    "\n",
    "HUMAN_CT_COLORS = {\n",
    "    'Prelineage': '#7985A5',\n",
    "    '8C_3.0': '#028A46',\n",
    "    'Morula_4.0': '#657cbd',\n",
    "    'Inner Cell Mass': '#F6C445',\n",
    "    'Primitive Endoderm': '#D05B61',\n",
    "    'Epiblast_6.0': '#d6b2ca',\n",
    "    'Epiblast_7.0': '#c38db1',\n",
    "    'Late epiblast': '#aa5c8f',\n",
    "    'Trophectoderm_5.0': '#cddff0',\n",
    "    'Trophectoderm_6.0': '#bdd4eb',\n",
    "    'Trophectoderm_7.0': '#acc9e6',\n",
    "    'Trophectoderm_8.0': '#9cbfe2',\n",
    "    'Trophectoderm_9.0': '#8bb4dd',\n",
    "    'Trophectoderm_10.0': '#5a94ce',\n",
    "    'Unknown': '#F1BD93',\n",
    "}"
   ]
  },
  {
   "cell_type": "code",
   "execution_count": null,
   "metadata": {},
   "outputs": [],
   "source": [
    "lvae = scvi.model.SCANVI.load(\"../proks-salehin-et-al-2023/results/02_mouse_integration/scanvi_ns_15/\")\n",
    "mouse = sc.read_h5ad(\"../proks-salehin-et-al-2023/results/03_mouse.processed.h5ad\")\n",
    "\n",
    "mouse.uns['stage_colors'] = [MOUSE_STAGE_COLORS[x] for x in mouse.obs.stage.cat.categories]\n",
    "mouse.uns['ct_colors'] = [MOUSE_CT_COLORS[x] for x in mouse.obs.ct.cat.categories]\n",
    "\n",
    "sc.pp.neighbors(mouse, use_rep='X_scVI')\n",
    "sc.tl.diffmap(mouse)\n",
    "sc.tl.paga(mouse, groups='ct')\n",
    "sc.tl.draw_graph(mouse, init_pos='paga', n_jobs=10)\n",
    "\n",
    "mouse.uns['log1p'] = {'base': None}\n",
    "sc.tl.rank_genes_groups(mouse, groupby=\"ct\", use_raw=True)\n",
    "sc.tl.rank_genes_groups(mouse, groupby=\"stage\", use_raw=True, key_added=\"degs_stage\")"
   ]
  },
  {
   "cell_type": "code",
   "execution_count": null,
   "metadata": {},
   "outputs": [],
   "source": [
    "lvae_human = scvi.model.SCANVI.load(\"../proks-salehin-et-al-2023/results/02_human_integration/05_scanvi_ns15/\")\n",
    "human = lvae_human.adata\n",
    "human.obs.ct = human.obs.C_scANVI_nsamples\n",
    "\n",
    "human.uns['stage_colors'] = [HUMAN_STAGE_COLORS[x] for x in human.obs.stage.cat.categories]\n",
    "human.uns['C_scANVI_nsamples_colors'] = [HUMAN_CT_COLORS[x] for x in human.obs.C_scANVI_nsamples.cat.categories]\n",
    "\n",
    "human.uns['log1p'] = {'base': None}\n",
    "sc.tl.rank_genes_groups(human, groupby=\"ct\", use_raw=True)\n",
    "sc.tl.rank_genes_groups(human, groupby=\"stage\", use_raw=True, key_added=\"degs_stage\")"
   ]
  },
  {
   "cell_type": "markdown",
   "metadata": {},
   "source": [
    "## Gene expression"
   ]
  },
  {
   "cell_type": "code",
   "execution_count": null,
   "metadata": {},
   "outputs": [],
   "source": [
    "sc.pl.draw_graph(mouse, color='ct')"
   ]
  },
  {
   "cell_type": "code",
   "execution_count": null,
   "metadata": {},
   "outputs": [],
   "source": [
    "sc.pp.neighbors(human, use_rep='X_scVI')\n",
    "sc.tl.umap(human)\n",
    "sc.tl.diffmap(human)\n",
    "sc.tl.paga(human, groups='C_scANVI_nsamples')\n",
    "sc.pl.paga(human)\n",
    "sc.tl.draw_graph(human, init_pos='paga', n_jobs=10)"
   ]
  },
  {
   "cell_type": "code",
   "execution_count": null,
   "metadata": {},
   "outputs": [],
   "source": [
    "sc.pl.draw_graph(human, color='C_scANVI_nsamples')"
   ]
  },
  {
   "cell_type": "markdown",
   "metadata": {},
   "source": [
    "## Degs"
   ]
  },
  {
   "cell_type": "code",
   "execution_count": null,
   "metadata": {},
   "outputs": [],
   "source": [
    "df = sc.get.rank_genes_groups_df(mouse, group=None)\n",
    "df.assign(gene_symbol=df.names).to_feather(\"static/mouse_degs_ct.feather\")\n",
    "\n",
    "df = sc.get.rank_genes_groups_df(mouse, group=None, key=\"degs_stage\")\n",
    "df.assign(gene_symbol=df.names).to_feather(\"static/mouse_degs_stage.feather\")"
   ]
  },
  {
   "cell_type": "code",
   "execution_count": null,
   "metadata": {},
   "outputs": [],
   "source": [
    "df = sc.get.rank_genes_groups_df(human, group=None)\n",
    "df.assign(gene_symbol=get_symbol(df.names)).to_feather(\"static/human_degs_ct.feather\")\n",
    "\n",
    "sc.get.rank_genes_groups_df(human, group=None, key=\"degs_stage\")\n",
    "df.assign(gene_symbol=get_symbol(df.names)).to_feather(\"static/human_degs_stage.feather\")"
   ]
  },
  {
   "cell_type": "markdown",
   "metadata": {},
   "source": [
    "## SHAP values"
   ]
  },
  {
   "cell_type": "code",
   "execution_count": null,
   "metadata": {},
   "outputs": [],
   "source": [
    "mouse_SHAP = filter_SHAP(\"../proks-salehin-et-al-2023/results/00_mouse_scANVI_deepexplainer.feather\", groupby=\"ct\")\\\n",
    "    .sort_values('weight_mean', ascending=False)\\\n",
    "    .groupby('ct')\\\n",
    "    .head(-1)\\\n",
    "    .reset_index()\\\n",
    "    .set_index(['ct', 'feature'])\\\n",
    "    .loc[mouse.obs.ct.cat.categories]\n",
    "\n",
    "markers = pd.concat([sc.get.rank_genes_groups_df(mouse, group=ct).assign(ct=ct) for ct in mouse.obs.ct.cat.categories]).set_index(['ct', 'names'])\n",
    "\n",
    "common = mouse_SHAP.index.intersection(markers.index)\n",
    "mouse_SHAP.loc[common, 'logfoldchanges'] = markers.loc[common, 'logfoldchanges'].values\n",
    "mouse_SHAP.loc[common, 'pvals_adj'] = markers.loc[common, 'pvals_adj'].values\n",
    "mouse_SHAP.loc[common, 'scores'] = markers.loc[common, 'scores'].values\n",
    "\n",
    "mouse_SHAP.reset_index().to_feather(\"static/mouse_SHAP.feather\")"
   ]
  },
  {
   "cell_type": "code",
   "execution_count": null,
   "metadata": {},
   "outputs": [],
   "source": [
    "human_SHAP = filter_SHAP(\"../proks-salehin-et-al-2023/results/00_human_scANVI_deepexplainer.feather\", groupby=\"ct\")\\\n",
    "    .sort_values('weight_mean', ascending=False)\\\n",
    "    .groupby('ct')\\\n",
    "    .head(-1)\\\n",
    "    .reset_index()\\\n",
    "    .assign(feature = lambda x: x.feature.str.upper())\\\n",
    "    .set_index(['ct', 'feature'])\\\n",
    "    .loc[human.obs.C_scANVI_nsamples.cat.categories]\n",
    "\n",
    "markers = pd.concat([sc.get.rank_genes_groups_df(human, group=ct).assign(ct=ct) for ct in human.obs.C_scANVI_nsamples.cat.categories]).set_index(['ct', 'names'])\n",
    "\n",
    "common = human_SHAP.index.intersection(markers.index)\n",
    "human_SHAP.loc[common, 'logfoldchanges'] = markers.loc[common, 'logfoldchanges'].values\n",
    "human_SHAP.loc[common, 'pvals_adj'] = markers.loc[common, 'pvals_adj'].values\n",
    "human_SHAP.loc[common, 'scores'] = markers.loc[common, 'scores'].values\n",
    "\n",
    "human_SHAP = human_SHAP.reset_index()\\\n",
    "    .assign(feature = get_symbol(human_SHAP.reset_index().feature))\\\n",
    "    .set_index(['ct', 'feature'])\n",
    "\n",
    "human_SHAP.reset_index().to_feather(\"static/human_SHAP.feather\")"
   ]
  },
  {
   "cell_type": "markdown",
   "metadata": {},
   "source": [
    "## Save files"
   ]
  },
  {
   "cell_type": "code",
   "execution_count": null,
   "metadata": {},
   "outputs": [],
   "source": [
    "from scipy import sparse\n",
    "\n",
    "mouse_compressed = sc.AnnData(\n",
    "    X = mouse.X,\n",
    "    obs = mouse.obs[['batch', 'experiment', 'technology', 'ct', 'ct_orig', 'stage','timepoint', \n",
    "           'total_counts_mt', 'pct_counts_mt', 'n_genes', 'n_counts', 'leiden', \n",
    "           'dpt_pseudotime', 't', 'seg', 'edge', 't_sd', 'milestones']],\n",
    "    var = mouse.var[['gene_ids', 'gene_symbol']],\n",
    "    uns={ x: mouse.uns[x] for x in ['_scvi_manager_uuid', '_scvi_uuid', 'ct_colors', 'ct_sizes', 'experiment_colors', 'seg_colors', 'stage_colors', 'timepoint_colors']},\n",
    "    obsm={ x: mouse.obsm[x] for x in ['X_diffmap', 'X_diffmap_', 'X_draw_graph_fa', 'X_mde_scVI', 'X_pca', 'X_phate', 'X_scVI', 'X_tsne', 'X_umap']},\n",
    "    layers={'scVI_normalized': sparse.csr_matrix(mouse.layers['scVI_normalized'])},\n",
    "    raw = mouse.raw\n",
    ")\n",
    "\n",
    "tmp_raw = human.raw.to_adata()\n",
    "tmp_raw.var = pd.DataFrame(tmp_raw.var.reset_index().values, index=get_symbol(tmp_raw.var.reset_index()['index'].ravel()), columns=['index'])\n",
    "\n",
    "human_compressed = sc.AnnData(\n",
    "    X = human.X,\n",
    "    obs = human.obs,\n",
    "    var = human.var.reset_index().set_index('symbol')[['index']],\n",
    "    uns={ x: human.uns[x] for x in ['_scvi_manager_uuid', '_scvi_uuid', 'stage_colors', 'C_scANVI_nsamples_colors', 'C_scANVI_nsamples_sizes']},\n",
    "    obsm={ x: human.obsm[x] for x in ['X_mde_scANVI', 'X_mde_scVI', 'X_scANVI', 'X_scVI', 'X_diffmap', 'X_draw_graph_fa']},\n",
    "    layers={'scVI_normalized': sparse.csr_matrix(human.layers['scVI_normalized'])},\n",
    "    raw = tmp_raw\n",
    ")\n",
    "\n",
    "mouse_compressed.write(\"static/portal_mouse_v1.h5ad\")\n",
    "human_compressed.write(\"static/portal_human_v1.h5ad\")"
   ]
  },
  {
   "cell_type": "code",
   "execution_count": null,
   "metadata": {},
   "outputs": [],
   "source": []
  }
 ],
 "metadata": {
  "kernelspec": {
   "display_name": "Python 3",
   "language": "python",
   "name": "python3"
  },
  "language_info": {
   "codemirror_mode": {
    "name": "ipython",
    "version": 3
   },
   "file_extension": ".py",
   "mimetype": "text/x-python",
   "name": "python",
   "nbconvert_exporter": "python",
   "pygments_lexer": "ipython3",
   "version": "3.10.11"
  }
 },
 "nbformat": 4,
 "nbformat_minor": 2
}
